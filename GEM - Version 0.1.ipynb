{
 "cells": [
  {
   "cell_type": "code",
   "execution_count": 1,
   "metadata": {},
   "outputs": [],
   "source": [
    "# BLOCK 1\n",
    "# IMPORT LIBRARIES\n",
    "\n",
    "import string\n",
    "import os\n",
    "import urllib.request\n",
    "import patoolib\n",
    "\n",
    "from functools import reduce\n",
    "from toolz.itertoolz import sliding_window\n",
    "import os"
   ]
  },
  {
   "cell_type": "code",
   "execution_count": 2,
   "metadata": {},
   "outputs": [],
   "source": [
    "# BLOCK 2\n",
    "# UI \n",
    "\n",
    "user_input_url = input ('Enter the Github URL')"
   ]
  },
  {
   "cell_type": "code",
   "execution_count": 3,
   "metadata": {},
   "outputs": [],
   "source": [
    "# BLOCK 3\n",
    "# URL Re_route\n",
    "\n",
    "url_download_extension = '/archive/master.zip'\n",
    "download_url = user_input_url+url_download_extension\n",
    "url=download_url"
   ]
  },
  {
   "cell_type": "code",
   "execution_count": 4,
   "metadata": {},
   "outputs": [
    {
     "name": "stdout",
     "output_type": "stream",
     "text": [
      "westhealth_pyvis.zip\n"
     ]
    }
   ],
   "source": [
    "# BLOCK 4\n",
    "# ZIP File Name\n",
    "\n",
    "test_url = user_input_url\n",
    "\n",
    "zip_list = '.zip'\n",
    "zip_file_name = \"_\".join(test_url.split('/')[-2:]).lower()\n",
    "zip_file_name = zip_file_name+zip_list\n",
    "print (zip_file_name)"
   ]
  },
  {
   "cell_type": "code",
   "execution_count": 5,
   "metadata": {},
   "outputs": [
    {
     "data": {
      "text/plain": [
       "('westhealth_pyvis.zip', <http.client.HTTPMessage at 0x1075a7f98>)"
      ]
     },
     "execution_count": 5,
     "metadata": {},
     "output_type": "execute_result"
    }
   ],
   "source": [
    "# BLOCK 5\n",
    "# LOAD APPLICATION\n",
    "\n",
    "urllib.request.urlretrieve( url, zip_file_name)"
   ]
  },
  {
   "cell_type": "code",
   "execution_count": 6,
   "metadata": {},
   "outputs": [
    {
     "name": "stdout",
     "output_type": "stream",
     "text": [
      "patool: Extracting westhealth_pyvis.zip ...\n",
      "patool: ... westhealth_pyvis.zip extracted to `unpack'.\n"
     ]
    },
    {
     "data": {
      "text/plain": [
       "'unpack'"
      ]
     },
     "execution_count": 6,
     "metadata": {},
     "output_type": "execute_result"
    }
   ],
   "source": [
    "# BLOCK 6\n",
    "# UNZIP\n",
    "\n",
    "patoolib.extract_archive(zip_file_name,outdir='unpack')"
   ]
  },
  {
   "cell_type": "code",
   "execution_count": 7,
   "metadata": {},
   "outputs": [],
   "source": [
    "# BLOCK 7\n",
    "# CHANGE DIRECTORY\n",
    "\n",
    "engine_root = os.getcwd()\n",
    "concatenator = '/unpack/'\n",
    "extracted_file_name = test_url.split('/')[-1:][0]\n",
    "ending_concatanator = \"-master\"\n",
    "\n",
    "final_url = engine_root+concatenator+extracted_file_name+ending_concatanator\n",
    "os.chdir(final_url)"
   ]
  },
  {
   "cell_type": "code",
   "execution_count": 8,
   "metadata": {},
   "outputs": [],
   "source": [
    "# BLOCK 8\n",
    "# Directory to PATH\n",
    "\n",
    "DIRS = os.getcwd()"
   ]
  },
  {
   "cell_type": "code",
   "execution_count": 9,
   "metadata": {},
   "outputs": [
    {
     "name": "stdout",
     "output_type": "stream",
     "text": [
      "CREATE (pyvismaster)-[:CONTAINS]->(pyvis_pyvismaster)\n",
      "CREATE (pyvismaster)-[:CONTAINS]->(unpack_pyvismaster)\n",
      "CREATE (pyvismaster)-[:CONTAINS]->(requirementstxt_pyvismaster)\n",
      "CREATE (pyvismaster)-[:CONTAINS]->(initpy_pyvismaster)\n",
      "CREATE (pyvismaster)-[:CONTAINS]->(MANIFESTin_pyvismaster)\n",
      "CREATE (pyvismaster)-[:CONTAINS]->(READMEmd_pyvismaster)\n",
      "CREATE (pyvismaster)-[:CONTAINS]->(LICENSEBSDtxt_pyvismaster)\n",
      "CREATE (pyvismaster)-[:CONTAINS]->(setuppy_pyvismaster)\n",
      "CREATE (pyvismaster)-[:CONTAINS]->(westhealthpyviszip_pyvismaster)\n",
      "CREATE (pyvis_pyvismaster)-[:CONTAINS]->(source_pyvis_pyvismaster)\n",
      "CREATE (pyvis_pyvismaster)-[:CONTAINS]->(tests_pyvis_pyvismaster)\n",
      "CREATE (pyvis_pyvismaster)-[:CONTAINS]->(templates_pyvis_pyvismaster)\n",
      "CREATE (pyvis_pyvismaster)-[:CONTAINS]->(optionspy_pyvis_pyvismaster)\n",
      "CREATE (pyvis_pyvismaster)-[:CONTAINS]->(edgepy_pyvis_pyvismaster)\n",
      "CREATE (pyvis_pyvismaster)-[:CONTAINS]->(Makefile_pyvis_pyvismaster)\n",
      "CREATE (pyvis_pyvismaster)-[:CONTAINS]->(initpy_pyvis_pyvismaster)\n",
      "CREATE (pyvis_pyvismaster)-[:CONTAINS]->(physicspy_pyvis_pyvismaster)\n",
      "CREATE (pyvis_pyvismaster)-[:CONTAINS]->(utilspy_pyvis_pyvismaster)\n",
      "CREATE (pyvis_pyvismaster)-[:CONTAINS]->(networkpy_pyvis_pyvismaster)\n",
      "CREATE (pyvis_pyvismaster)-[:CONTAINS]->(nodepy_pyvis_pyvismaster)\n",
      "CREATE (pyvis_pyvismaster)-[:CONTAINS]->(outputtxt_pyvis_pyvismaster)\n",
      "CREATE (source_pyvis_pyvismaster)-[:CONTAINS]->(installrst_source_pyvis_pyvismaster)\n",
      "CREATE (source_pyvis_pyvismaster)-[:CONTAINS]->(juppng_source_pyvis_pyvismaster)\n",
      "CREATE (source_pyvis_pyvismaster)-[:CONTAINS]->(indexrst_source_pyvis_pyvismaster)\n",
      "CREATE (source_pyvis_pyvismaster)-[:CONTAINS]->(buttonsgif_source_pyvis_pyvismaster)\n",
      "CREATE (source_pyvis_pyvismaster)-[:CONTAINS]->(rednodepng_source_pyvis_pyvismaster)\n",
      "CREATE (source_pyvis_pyvismaster)-[:CONTAINS]->(documentationrst_source_pyvis_pyvismaster)\n",
      "CREATE (source_pyvis_pyvismaster)-[:CONTAINS]->(confpy_source_pyvis_pyvismaster)\n",
      "CREATE (source_pyvis_pyvismaster)-[:CONTAINS]->(tutorialrst_source_pyvis_pyvismaster)\n",
      "CREATE (source_pyvis_pyvismaster)-[:CONTAINS]->(mulnodeshtml_source_pyvis_pyvismaster)\n",
      "CREATE (source_pyvis_pyvismaster)-[:CONTAINS]->(gameofthroneshtml_source_pyvis_pyvismaster)\n",
      "CREATE (source_pyvis_pyvismaster)-[:CONTAINS]->(netpng_source_pyvis_pyvismaster)\n",
      "CREATE (source_pyvis_pyvismaster)-[:CONTAINS]->(licenserst_source_pyvis_pyvismaster)\n",
      "CREATE (source_pyvis_pyvismaster)-[:CONTAINS]->(introductionrst_source_pyvis_pyvismaster)\n",
      "CREATE (source_pyvis_pyvismaster)-[:CONTAINS]->(tutgif_source_pyvis_pyvismaster)\n",
      "CREATE (source_pyvis_pyvismaster)-[:CONTAINS]->(netpng_source_pyvis_pyvismaster)\n",
      "CREATE (source_pyvis_pyvismaster)-[:CONTAINS]->(netpng_source_pyvis_pyvismaster)\n",
      "CREATE (tests_pyvis_pyvismaster)-[:CONTAINS]->(testmepy_tests_pyvis_pyvismaster)\n",
      "CREATE (tests_pyvis_pyvismaster)-[:CONTAINS]->(initpy_tests_pyvis_pyvismaster)\n",
      "CREATE (tests_pyvis_pyvismaster)-[:CONTAINS]->(testgraphpy_tests_pyvis_pyvismaster)\n",
      "CREATE (templates_pyvis_pyvismaster)-[:CONTAINS]->(templatehtml_templates_pyvis_pyvismaster)\n",
      "CREATE (templates_pyvis_pyvismaster)-[:CONTAINS]->(animationtemplatehtml_templates_pyvis_pyvismaster)\n",
      "CREATE (unpack_pyvismaster)-[:CONTAINS]->(pyvismaster_unpack_pyvismaster)\n",
      "CREATE (pyvismaster_unpack_pyvismaster)-[:CONTAINS]->(pyvis_pyvismaster_unpack_pyvismaster)\n",
      "CREATE (pyvismaster_unpack_pyvismaster)-[:CONTAINS]->(requirementstxt_pyvismaster_unpack_pyvismaster)\n",
      "CREATE (pyvismaster_unpack_pyvismaster)-[:CONTAINS]->(initpy_pyvismaster_unpack_pyvismaster)\n",
      "CREATE (pyvismaster_unpack_pyvismaster)-[:CONTAINS]->(MANIFESTin_pyvismaster_unpack_pyvismaster)\n",
      "CREATE (pyvismaster_unpack_pyvismaster)-[:CONTAINS]->(READMEmd_pyvismaster_unpack_pyvismaster)\n",
      "CREATE (pyvismaster_unpack_pyvismaster)-[:CONTAINS]->(LICENSEBSDtxt_pyvismaster_unpack_pyvismaster)\n",
      "CREATE (pyvismaster_unpack_pyvismaster)-[:CONTAINS]->(setuppy_pyvismaster_unpack_pyvismaster)\n",
      "CREATE (pyvis_pyvismaster_unpack_pyvismaster)-[:CONTAINS]->(source_pyvis_pyvismaster_unpack_pyvismaster)\n",
      "CREATE (pyvis_pyvismaster_unpack_pyvismaster)-[:CONTAINS]->(tests_pyvis_pyvismaster_unpack_pyvismaster)\n",
      "CREATE (pyvis_pyvismaster_unpack_pyvismaster)-[:CONTAINS]->(templates_pyvis_pyvismaster_unpack_pyvismaster)\n",
      "CREATE (pyvis_pyvismaster_unpack_pyvismaster)-[:CONTAINS]->(optionspy_pyvis_pyvismaster_unpack_pyvismaster)\n",
      "CREATE (pyvis_pyvismaster_unpack_pyvismaster)-[:CONTAINS]->(edgepy_pyvis_pyvismaster_unpack_pyvismaster)\n",
      "CREATE (pyvis_pyvismaster_unpack_pyvismaster)-[:CONTAINS]->(Makefile_pyvis_pyvismaster_unpack_pyvismaster)\n",
      "CREATE (pyvis_pyvismaster_unpack_pyvismaster)-[:CONTAINS]->(initpy_pyvis_pyvismaster_unpack_pyvismaster)\n",
      "CREATE (pyvis_pyvismaster_unpack_pyvismaster)-[:CONTAINS]->(physicspy_pyvis_pyvismaster_unpack_pyvismaster)\n",
      "CREATE (pyvis_pyvismaster_unpack_pyvismaster)-[:CONTAINS]->(utilspy_pyvis_pyvismaster_unpack_pyvismaster)\n",
      "CREATE (pyvis_pyvismaster_unpack_pyvismaster)-[:CONTAINS]->(networkpy_pyvis_pyvismaster_unpack_pyvismaster)\n",
      "CREATE (pyvis_pyvismaster_unpack_pyvismaster)-[:CONTAINS]->(nodepy_pyvis_pyvismaster_unpack_pyvismaster)\n",
      "CREATE (pyvis_pyvismaster_unpack_pyvismaster)-[:CONTAINS]->(outputtxt_pyvis_pyvismaster_unpack_pyvismaster)\n",
      "CREATE (source_pyvis_pyvismaster_unpack_pyvismaster)-[:CONTAINS]->(installrst_source_pyvis_pyvismaster_unpack_pyvismaster)\n",
      "CREATE (source_pyvis_pyvismaster_unpack_pyvismaster)-[:CONTAINS]->(juppng_source_pyvis_pyvismaster_unpack_pyvismaster)\n",
      "CREATE (source_pyvis_pyvismaster_unpack_pyvismaster)-[:CONTAINS]->(indexrst_source_pyvis_pyvismaster_unpack_pyvismaster)\n",
      "CREATE (source_pyvis_pyvismaster_unpack_pyvismaster)-[:CONTAINS]->(buttonsgif_source_pyvis_pyvismaster_unpack_pyvismaster)\n",
      "CREATE (source_pyvis_pyvismaster_unpack_pyvismaster)-[:CONTAINS]->(rednodepng_source_pyvis_pyvismaster_unpack_pyvismaster)\n",
      "CREATE (source_pyvis_pyvismaster_unpack_pyvismaster)-[:CONTAINS]->(documentationrst_source_pyvis_pyvismaster_unpack_pyvismaster)\n",
      "CREATE (source_pyvis_pyvismaster_unpack_pyvismaster)-[:CONTAINS]->(confpy_source_pyvis_pyvismaster_unpack_pyvismaster)\n",
      "CREATE (source_pyvis_pyvismaster_unpack_pyvismaster)-[:CONTAINS]->(tutorialrst_source_pyvis_pyvismaster_unpack_pyvismaster)\n",
      "CREATE (source_pyvis_pyvismaster_unpack_pyvismaster)-[:CONTAINS]->(mulnodeshtml_source_pyvis_pyvismaster_unpack_pyvismaster)\n",
      "CREATE (source_pyvis_pyvismaster_unpack_pyvismaster)-[:CONTAINS]->(gameofthroneshtml_source_pyvis_pyvismaster_unpack_pyvismaster)\n",
      "CREATE (source_pyvis_pyvismaster_unpack_pyvismaster)-[:CONTAINS]->(netpng_source_pyvis_pyvismaster_unpack_pyvismaster)\n",
      "CREATE (source_pyvis_pyvismaster_unpack_pyvismaster)-[:CONTAINS]->(licenserst_source_pyvis_pyvismaster_unpack_pyvismaster)\n",
      "CREATE (source_pyvis_pyvismaster_unpack_pyvismaster)-[:CONTAINS]->(introductionrst_source_pyvis_pyvismaster_unpack_pyvismaster)\n",
      "CREATE (source_pyvis_pyvismaster_unpack_pyvismaster)-[:CONTAINS]->(tutgif_source_pyvis_pyvismaster_unpack_pyvismaster)\n",
      "CREATE (source_pyvis_pyvismaster_unpack_pyvismaster)-[:CONTAINS]->(netpng_source_pyvis_pyvismaster_unpack_pyvismaster)\n",
      "CREATE (source_pyvis_pyvismaster_unpack_pyvismaster)-[:CONTAINS]->(netpng_source_pyvis_pyvismaster_unpack_pyvismaster)\n",
      "CREATE (tests_pyvis_pyvismaster_unpack_pyvismaster)-[:CONTAINS]->(testmepy_tests_pyvis_pyvismaster_unpack_pyvismaster)\n",
      "CREATE (tests_pyvis_pyvismaster_unpack_pyvismaster)-[:CONTAINS]->(initpy_tests_pyvis_pyvismaster_unpack_pyvismaster)\n",
      "CREATE (tests_pyvis_pyvismaster_unpack_pyvismaster)-[:CONTAINS]->(testgraphpy_tests_pyvis_pyvismaster_unpack_pyvismaster)\n",
      "CREATE (templates_pyvis_pyvismaster_unpack_pyvismaster)-[:CONTAINS]->(templatehtml_templates_pyvis_pyvismaster_unpack_pyvismaster)\n",
      "CREATE (templates_pyvis_pyvismaster_unpack_pyvismaster)-[:CONTAINS]->(animationtemplatehtml_templates_pyvis_pyvismaster_unpack_pyvismaster)\n"
     ]
    }
   ],
   "source": [
    "# BLOCK 9\n",
    "\n",
    "f=0\n",
    "door_list=[]\n",
    "for root, folder, files in os.walk(DIRS):\n",
    "    \n",
    "    while f==0:\n",
    "            \n",
    "            split_root = root.split('/')\n",
    "            len_split_root =len(split_root)-1\n",
    "            f=+1\n",
    "        \n",
    "    new_root = root.split('/')[len_split_root:]\n",
    "    s = []\n",
    "\n",
    "    for r in reversed(new_root):\n",
    "\n",
    "        r =''.join([i for i in r if not i.isdigit()])\n",
    "        \n",
    "        for c in string.punctuation:\n",
    "            r=r.replace(c,\"\")\n",
    "            \n",
    "        \n",
    "        s.append(r)\n",
    "     \n",
    "    s = '_'.join(s)\n",
    "    \n",
    "    for fol in folder:\n",
    "        \n",
    "        t =''.join([i for i in fol if not i.isdigit()])\n",
    "        \n",
    "        for f in string.punctuation:\n",
    "            t=t.replace(f,\"\")\n",
    "        print(\"CREATE ({b})-[:CONTAINS]->({a}_{b})\".format(a=t,b=s))\n",
    "#         print(\"CREATE (:{b}{{name:'{b}'}})-[:CONTAINS]->(:{a}_{b}{{name:'{a}_{b}'}})\".format(a=t,b=s))\n",
    "    \n",
    "    for fil in files:\n",
    "        \n",
    "        t =''.join([i for i in fil if not i.isdigit()])\n",
    "        \n",
    "        for f in string.punctuation:\n",
    "            t=t.replace(f,\"\")\n",
    "        print(\"CREATE ({b})-[:CONTAINS]->({a}_{b})\".format(a=t,b=s))\n",
    "#         print(\"CREATE (:{b}{{name:'{b}'}})-[:CONTAINS]->(:{a}_{b}{{name:'{a}_{b}'}})\".format(a=t,b=s))"
   ]
  }
 ],
 "metadata": {
  "kernelspec": {
   "display_name": "Python 3",
   "language": "python",
   "name": "python3"
  },
  "language_info": {
   "codemirror_mode": {
    "name": "ipython",
    "version": 3
   },
   "file_extension": ".py",
   "mimetype": "text/x-python",
   "name": "python",
   "nbconvert_exporter": "python",
   "pygments_lexer": "ipython3",
   "version": "3.6.4"
  }
 },
 "nbformat": 4,
 "nbformat_minor": 2
}
